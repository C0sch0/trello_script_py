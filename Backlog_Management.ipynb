{
 "cells": [
  {
   "cell_type": "code",
   "execution_count": 9,
   "metadata": {
    "collapsed": true
   },
   "outputs": [],
   "source": [
    "from trello import TrelloClient\n",
    "import requests"
   ]
  },
  {
   "cell_type": "markdown",
   "metadata": {},
   "source": [
    "Hay varios approachs para manejar Trello. Su API + requests, un wrapper y add-ons.\n",
    "Por simplicidad, use wrapper + requests"
   ]
  },
  {
   "cell_type": "code",
   "execution_count": 16,
   "metadata": {
    "collapsed": true
   },
   "outputs": [],
   "source": [
    "# atenti con no subir esto a github\n",
    "\n",
    "# https://trello.com/app-key\n",
    "TRELLO_API_KEY = \"\"\n",
    "# Token\n",
    "TRELLO_API_TOKEN = \"\""
   ]
  },
  {
   "cell_type": "code",
   "execution_count": 11,
   "metadata": {
    "collapsed": true
   },
   "outputs": [],
   "source": [
    "client = TrelloClient(\n",
    "        api_key=TRELLO_API_KEY,\n",
    "        api_secret=TRELLO_API_TOKEN)"
   ]
  },
  {
   "cell_type": "code",
   "execution_count": 12,
   "metadata": {
    "collapsed": true
   },
   "outputs": [],
   "source": [
    "# Extraer boards\n",
    "all_boards = client.list_boards()"
   ]
  },
  {
   "cell_type": "code",
   "execution_count": 13,
   "metadata": {
    "collapsed": true
   },
   "outputs": [],
   "source": [
    "# Elegir board, aca yo saco el -1, pero se puede filtrar por nombre\n",
    "last_board = all_boards[-1]\n",
    "lists = last_board.list_lists()"
   ]
  },
  {
   "cell_type": "code",
   "execution_count": 14,
   "metadata": {},
   "outputs": [
    {
     "name": "stdout",
     "output_type": "stream",
     "text": [
      "\n",
      " La lista <List To Do> tiene las siguientes cards:\n",
      "ejemplo\n",
      "\n",
      " La lista <List Doing> tiene las siguientes cards:\n",
      "ejemplo2\n",
      "\n",
      " La lista <List Done> tiene las siguientes cards:\n",
      "ejemplo3\n",
      "\n",
      " La lista <List s> tiene las siguientes cards:\n",
      "ejemplo4\n",
      "\n",
      " La lista <List Backlog Y> tiene las siguientes cards:\n",
      "this\n",
      "algo\n",
      "otro\n",
      "\n",
      " La lista <List Backlog H> no tiene cards.\n",
      "\n",
      " La lista <List Backlog X> tiene las siguientes cards:\n",
      "that\n",
      "\n",
      " La lista <List Sugerencia Hacer en Este Sprint> tiene las siguientes cards:\n",
      "k\n"
     ]
    }
   ],
   "source": [
    "# Mostrar todas las listas de un Board\n",
    "for board_list in lists:\n",
    "    cards = board_list.list_cards()\n",
    "    if cards:\n",
    "        print(\"\\n La lista {0} tiene las siguientes cards:\".format(board_list))\n",
    "        for card in cards:\n",
    "            print(card.name)\n",
    "    else:\n",
    "        print(\"\\n La lista {0} no tiene cards.\".format(board_list))"
   ]
  },
  {
   "cell_type": "code",
   "execution_count": 15,
   "metadata": {},
   "outputs": [
    {
     "name": "stdout",
     "output_type": "stream",
     "text": [
      "----------  Cuando buscamos especificamente en la lista 'Sugerencia Hacer en Este Sprint' ----------\n",
      "\n",
      " No hay movements\n"
     ]
    }
   ],
   "source": [
    "buscada = \"Sugerencia Hacer en Este Sprint\"\n",
    "print(\"----------  Cuando buscamos especificamente en la lista '{0}' ----------\".format(buscada))\n",
    "\n",
    "cards_a_mover = []\n",
    "for board_list in lists:\n",
    "    if board_list.name == buscada:\n",
    "        cards = board_list.list_cards()\n",
    "        if len(cards) == 0:\n",
    "            print(\"No hay cards\")\n",
    "        else:\n",
    "            for card in cards:\n",
    "                movements = card.list_movements()\n",
    "                if not movements:\n",
    "                    print(\"\\n No hay movements\")\n",
    "                else:\n",
    "                    last_mov = movements[0]\n",
    "                    backlog = last_mov[\"source\"]\n",
    "                    if \"Backlog\" in last_mov[\"source\"][\"name\"]:\n",
    "                        name = backlog[\"name\"]\n",
    "                        id_ = backlog[\"id\"]\n",
    "                        print(\"\\n Vine del backlog {0}\".format(name))\n",
    "                        print(\"cuyo id es: {0}\".format(id_))\n",
    "                        cards_a_mover.append(card)"
   ]
  },
  {
   "cell_type": "code",
   "execution_count": null,
   "metadata": {
    "collapsed": true
   },
   "outputs": [],
   "source": []
  }
 ],
 "metadata": {
  "kernelspec": {
   "display_name": "Python 3",
   "language": "python",
   "name": "python3"
  },
  "language_info": {
   "codemirror_mode": {
    "name": "ipython",
    "version": 3
   },
   "file_extension": ".py",
   "mimetype": "text/x-python",
   "name": "python",
   "nbconvert_exporter": "python",
   "pygments_lexer": "ipython3",
   "version": "3.5.3"
  }
 },
 "nbformat": 4,
 "nbformat_minor": 2
}
