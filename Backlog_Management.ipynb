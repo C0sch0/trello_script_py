{
 "cells": [
  {
   "cell_type": "code",
   "execution_count": 1,
   "metadata": {
    "collapsed": true
   },
   "outputs": [],
   "source": [
    "from trello import TrelloClient\n",
    "import requests"
   ]
  },
  {
   "cell_type": "markdown",
   "metadata": {},
   "source": [
    "Hay varios approachs para manejar Trello. Su API + requests, un wrapper y add-ons.\n",
    "Por simplicidad, use wrapper + requests"
   ]
  },
  {
   "cell_type": "code",
   "execution_count": 2,
   "metadata": {
    "collapsed": true
   },
   "outputs": [],
   "source": [
    "# atenti con no subir esto a github\n",
    "\n",
    "# https://trello.com/app-key\n",
    "TRELLO_API_KEY = \"\"\n",
    "\n",
    "# Token\n",
    "TRELLO_API_TOKEN = \"\""
   ]
  },
  {
   "cell_type": "code",
   "execution_count": 3,
   "metadata": {
    "collapsed": true
   },
   "outputs": [],
   "source": [
    "# inicializamoss un client con nuestra key y token para acceder a los recursos\n",
    "client = TrelloClient(\n",
    "        api_key=TRELLO_API_KEY,\n",
    "        api_secret=TRELLO_API_TOKEN)"
   ]
  },
  {
   "cell_type": "code",
   "execution_count": 4,
   "metadata": {
    "collapsed": true
   },
   "outputs": [],
   "source": [
    "# Extraer boards\n",
    "all_boards = client.list_boards()"
   ]
  },
  {
   "cell_type": "code",
   "execution_count": 5,
   "metadata": {
    "collapsed": true
   },
   "outputs": [],
   "source": [
    "# Elegir board, aca yo saco el -1, pero se puede filtrar por nombre\n",
    "last_board = all_boards[-1]\n",
    "lists = last_board.list_lists()"
   ]
  },
  {
   "cell_type": "code",
   "execution_count": 8,
   "metadata": {},
   "outputs": [
    {
     "name": "stdout",
     "output_type": "stream",
     "text": [
      "[<List To Do>, <List Doing>, <List Done>, <List s>, <List Backlog Y>, <List Backlog X>, <List Backlog H>, <List Sugerencia Hacer en Este Sprint>]\n"
     ]
    }
   ],
   "source": [
    "# Cuales son todas mis listas ?\n",
    "print([board_list for board_list in lists])     "
   ]
  },
  {
   "cell_type": "code",
   "execution_count": 12,
   "metadata": {},
   "outputs": [
    {
     "name": "stdout",
     "output_type": "stream",
     "text": [
      "\n",
      "La lista <List To Do> tiene las siguientes cards:\n",
      "- ejemplo\n",
      "\n",
      "La lista <List Doing> tiene las siguientes cards:\n",
      "- ejemplo2\n",
      "\n",
      "La lista <List Done> tiene las siguientes cards:\n",
      "- ejemplo3\n",
      "\n",
      "La lista <List s> tiene las siguientes cards:\n",
      "- ejemplo4\n",
      "\n",
      "La lista <List Backlog Y> tiene las siguientes cards:\n",
      "- otro\n",
      "- this\n",
      "- algo\n",
      "\n",
      "La lista <List Backlog X> tiene las siguientes cards:\n",
      "- that\n",
      "\n",
      "La lista <List Backlog H> no tiene cards.\n",
      "\n",
      "La lista <List Sugerencia Hacer en Este Sprint> tiene las siguientes cards:\n",
      "- k\n"
     ]
    }
   ],
   "source": [
    "# Para cada una de las listas de arriba, muestrame sus cartas\n",
    "for board_list in lists:\n",
    "    cards = board_list.list_cards()\n",
    "    if not cards:\n",
    "        print(\"\\nLa lista {0} no tiene cards.\".format(board_list))\n",
    "        continue\n",
    "    print(\"\\nLa lista {0} tiene las siguientes cards:\".format(board_list))\n",
    "    [print(\"-\",card.name) for card in cards]"
   ]
  },
  {
   "cell_type": "code",
   "execution_count": 39,
   "metadata": {},
   "outputs": [
    {
     "name": "stdout",
     "output_type": "stream",
     "text": [
      "----------  Cuando buscamos especificamente en la lista 'Sugerencia Hacer en Este Sprint' ----------\n",
      "\n",
      " Vine del backlog Backlog Y\n",
      "cuyo id es: 5c4b529b8d01395ced79fd0f\n",
      "\n",
      " No hay movements\n",
      "\n",
      " Vine del backlog Backlog Y\n",
      "cuyo id es: 5c4b529b8d01395ced79fd0f\n",
      "\n",
      " Vine del backlog Backlog Y\n",
      "cuyo id es: 5c4b529b8d01395ced79fd0f\n",
      "\n",
      " Vine del backlog Backlog X\n",
      "cuyo id es: 5c4b528732279e3b94ddefdc\n"
     ]
    }
   ],
   "source": [
    "buscada = \"Sugerencia Hacer en Este Sprint\"\n",
    "print(\"----------  Cuando buscamos especificamente en la lista '{0}' ----------\".format(buscada))\n",
    "\n",
    "cards_a_mover = []\n",
    "for board_list in lists:\n",
    "    if board_list.name == buscada:\n",
    "        cards = board_list.list_cards()\n",
    "        if len(cards) == 0:\n",
    "            print(\"No hay cards\")\n",
    "        else:\n",
    "            for card in cards:\n",
    "                movements = card.list_movements()\n",
    "                if not movements:\n",
    "                    print(\"\\n No hay movements\")\n",
    "                else:\n",
    "                    last_mov = movements[0]\n",
    "                    backlog = last_mov[\"source\"]\n",
    "                    if \"Backlog\" in last_mov[\"source\"][\"name\"]:\n",
    "                        name = backlog[\"name\"]\n",
    "                        id_ = backlog[\"id\"]\n",
    "                        print(\"\\n Vine del backlog {0}\".format(name))\n",
    "                        print(\"cuyo id es: {0}\".format(id_))\n",
    "                        cards_a_mover.append(card)"
   ]
  },
  {
   "cell_type": "code",
   "execution_count": 40,
   "metadata": {},
   "outputs": [
    {
     "name": "stdout",
     "output_type": "stream",
     "text": [
      "[<Card otro>, <Card this>, <Card algo>, <Card that>]\n"
     ]
    }
   ],
   "source": [
    "print(cards_a_mover)\n",
    "\n",
    "# Mover a su backlog anterior\n",
    "# Agregar label triage\n",
    "\n",
    "for card in cards_a_mover:\n",
    "    movements = card.list_movements()\n",
    "    last_mov = movements[0]\n",
    "    backlog = last_mov[\"source\"]\n",
    "    id_ = backlog[\"id\"]\n",
    "    card.change_list(id_)"
   ]
  },
  {
   "cell_type": "code",
   "execution_count": null,
   "metadata": {
    "collapsed": true
   },
   "outputs": [],
   "source": []
  },
  {
   "cell_type": "code",
   "execution_count": null,
   "metadata": {
    "collapsed": true
   },
   "outputs": [],
   "source": []
  }
 ],
 "metadata": {
  "kernelspec": {
   "display_name": "Python 3",
   "language": "python",
   "name": "python3"
  },
  "language_info": {
   "codemirror_mode": {
    "name": "ipython",
    "version": 3
   },
   "file_extension": ".py",
   "mimetype": "text/x-python",
   "name": "python",
   "nbconvert_exporter": "python",
   "pygments_lexer": "ipython3",
   "version": "3.5.3"
  }
 },
 "nbformat": 4,
 "nbformat_minor": 2
}
