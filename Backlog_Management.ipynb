{
 "cells": [
  {
   "cell_type": "code",
   "execution_count": null,
   "metadata": {
    "collapsed": true
   },
   "outputs": [],
   "source": [
    "from trello import TrelloClient\n",
    "import requests"
   ]
  },
  {
   "cell_type": "markdown",
   "metadata": {},
   "source": [
    "Hay varios approachs para manejar Trello. Su API + requests, un wrapper y add-ons.\n",
    "Por simplicidad, use wrapper + requests"
   ]
  },
  {
   "cell_type": "code",
   "execution_count": null,
   "metadata": {
    "collapsed": true
   },
   "outputs": [],
   "source": [
    "# NO SUBIR KEY Y TOKEN A GITHUB\n",
    "# opcion: poner como variable de entorno\n",
    "\n",
    "# https://trello.com/app-key\n",
    "TRELLO_API_KEY = \"\"\n",
    "# Token\n",
    "TRELLO_API_TOKEN = \"\"\n",
    "\n",
    "# En que lista quieres revisar si hay cards que deberian volver a sus Backlogs ?\n",
    "buscada = \"Sugerencia Hacer en Este Sprint\"\n",
    "\n",
    "# que label le quieres poner cuando la movamos ?\n",
    "label = \"triage\""
   ]
  },
  {
   "cell_type": "code",
   "execution_count": null,
   "metadata": {
    "collapsed": true
   },
   "outputs": [],
   "source": [
    "# inicializamoss un client con nuestra key y token para acceder a los recursos\n",
    "client = TrelloClient(\n",
    "        api_key=TRELLO_API_KEY,\n",
    "        api_secret=TRELLO_API_TOKEN)"
   ]
  },
  {
   "cell_type": "code",
   "execution_count": null,
   "metadata": {
    "collapsed": true
   },
   "outputs": [],
   "source": [
    "# Extraer boards\n",
    "all_boards = client.list_boards()"
   ]
  },
  {
   "cell_type": "code",
   "execution_count": null,
   "metadata": {
    "collapsed": true
   },
   "outputs": [],
   "source": [
    "# Elegir board, aca yo saco el -1, pero se puede filtrar por nombre\n",
    "last_board = all_boards[-1]\n",
    "lists = last_board.list_lists()"
   ]
  },
  {
   "cell_type": "code",
   "execution_count": null,
   "metadata": {},
   "outputs": [],
   "source": [
    "# buscamos label que queremos agregar. Se asume que solo hay un label con esa palabra\n",
    "# Ojo que si tienen nombres duplicados podria fallar !\n",
    "\n",
    "label = list(filter(lambda x: \"triage\" in x.name,last_board.get_labels()))[0]"
   ]
  },
  {
   "cell_type": "code",
   "execution_count": null,
   "metadata": {},
   "outputs": [],
   "source": [
    "# Cuales son todas mis listas ?\n",
    "print([board_list for board_list in lists])     "
   ]
  },
  {
   "cell_type": "code",
   "execution_count": null,
   "metadata": {},
   "outputs": [],
   "source": [
    "# Para cada una de las listas de arriba, muestrame sus cartas\n",
    "def imprimir(_list):\n",
    "    cards = _list.list_cards()\n",
    "    if cards:   \n",
    "        print(\"\\nLa lista {0} tiene las siguientes cards:\".format(_list))\n",
    "        [print(\"- \",card.name) for card in cards]\n",
    "    else:\n",
    "        print(\"\\n\\033[1mLa lista {0} no tiene cards.\\033[0m\".format(_list)) \n",
    "    \n",
    "[imprimir(x) for x in lists]"
   ]
  },
  {
   "cell_type": "code",
   "execution_count": null,
   "metadata": {},
   "outputs": [],
   "source": [
    "# filtramos la lista en la cual queremos revisar si hay cards que pertenecieron a backlogs\n",
    "\n",
    "print(\"Cuando buscamos especificamente en la lista \\033[1m'{0}'\\033[0m sus cartas son:\".format(buscada))\n",
    "filtered_list = list(filter(lambda x: x.name == buscada, lists))\n",
    "cards = filtered_list[0].list_cards()   # sacamos sus cartas\n",
    "print(cards)"
   ]
  },
  {
   "cell_type": "code",
   "execution_count": null,
   "metadata": {},
   "outputs": [],
   "source": [
    "# recibe lista de cartas, revisa sus movements, busca el Backlog más reciente al que pertenecio (si es que), \n",
    "# lo mueve de list, lo pone en primera posicion y le agrega el label\n",
    "\n",
    "def mover_card(card, last_backlog_was, label):\n",
    "    card.change_list(last_backlog_was)\n",
    "    try:\n",
    "        card.add_label(label)\n",
    "    except:\n",
    "        print(\"Ya tenia ese label (o hubo un error distinto)\")\n",
    "    card.change_pos(0)\n",
    "    \n",
    "def buscar_ultimo_backlog(movements):\n",
    "    if len(movements) == 0:\n",
    "        return None\n",
    "    return [movement[\"source\"][\"id\"] for movement in movements if \"Backlog\" in movement[\"source\"][\"name\"]]\n",
    "    return None\n",
    "            \n",
    "def revisar_cartas(cards):\n",
    "    if len(cards) != 0:\n",
    "        [mover_card(card, buscar_ultimo_backlog(card.list_movements())[0], label) for card in cards if buscar_ultimo_backlog(card.list_movements())]            \n",
    "revisar_cartas(cards)"
   ]
  },
  {
   "cell_type": "code",
   "execution_count": null,
   "metadata": {
    "collapsed": true
   },
   "outputs": [],
   "source": []
  },
  {
   "cell_type": "code",
   "execution_count": null,
   "metadata": {
    "collapsed": true
   },
   "outputs": [],
   "source": []
  }
 ],
 "metadata": {
  "kernelspec": {
   "display_name": "Python 3",
   "language": "python",
   "name": "python3"
  },
  "language_info": {
   "codemirror_mode": {
    "name": "ipython",
    "version": 3
   },
   "file_extension": ".py",
   "mimetype": "text/x-python",
   "name": "python",
   "nbconvert_exporter": "python",
   "pygments_lexer": "ipython3",
   "version": "3.5.3"
  }
 },
 "nbformat": 4,
 "nbformat_minor": 2
}
